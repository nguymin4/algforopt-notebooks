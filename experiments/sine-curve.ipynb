{
 "cells": [
  {
   "cell_type": "code",
   "execution_count": 27,
   "metadata": {},
   "outputs": [
    {
     "name": "stdout",
     "output_type": "stream",
     "text": [
      "Convergence Rate 56.0%\n",
      "Convergence Rate 59.0%\n"
     ]
    },
    {
     "name": "stdout",
     "output_type": "stream",
     "text": [
      "Convergence Rate 60.0%\n",
      "Convergence Rate 60.0%\n"
     ]
    },
    {
     "name": "stdout",
     "output_type": "stream",
     "text": [
      "Convergence Rate 61.2%\n",
      "Convergence Rate 60.0%\n"
     ]
    },
    {
     "name": "stdout",
     "output_type": "stream",
     "text": [
      "Convergence Rate 58.3%\n"
     ]
    },
    {
     "name": "stdout",
     "output_type": "stream",
     "text": [
      "Convergence Rate 58.0%\n",
      "Convergence Rate 58.2%\n"
     ]
    },
    {
     "name": "stdout",
     "output_type": "stream",
     "text": [
      "Convergence Rate 58.4%\n",
      "Convergence Rate 58.5%\n"
     ]
    },
    {
     "name": "stdout",
     "output_type": "stream",
     "text": [
      "Convergence Rate 59.3%\n",
      "Convergence Rate 60.5%\n"
     ]
    },
    {
     "name": "stdout",
     "output_type": "stream",
     "text": [
      "Convergence Rate 59.9%\n",
      "Convergence Rate 59.3%\n"
     ]
    },
    {
     "name": "stdout",
     "output_type": "stream",
     "text": [
      "Convergence Rate 59.9%\n",
      "Convergence Rate 60.0%\n"
     ]
    },
    {
     "name": "stdout",
     "output_type": "stream",
     "text": [
      "Convergence Rate 60.0%\n",
      "Convergence Rate 60.0%\n"
     ]
    },
    {
     "name": "stdout",
     "output_type": "stream",
     "text": [
      "Convergence Rate 59.2%\n",
      "Convergence Rate 59.2%\n"
     ]
    }
   ],
   "source": [
    "using Optim\n",
    "\n",
    "sin_curve(x) = g(t) = x[1] * sin(x[2] * t + x[3]) + x[4]\n",
    "\n",
    "true_params = [10.0, 0.6, π, 80.0]\n",
    "num_samples = 100\n",
    "x = [i * 10 / num_samples for i in 0:num_samples]\n",
    "y = sin_curve(true_params).(x)\n",
    "\n",
    "function cost_func(params)\n",
    "  g = sin_curve(params)\n",
    "  return sum((y - g.(x)) .^ 2)\n",
    "end\n",
    "\n",
    "function is_true_params(params::Vector{Float64}, tol::Union{Float64, Vector{Float64}} = 1e-3)\n",
    "  if isa(tol, Float64)\n",
    "    tol = tol * ones(length(true_params), 1)\n",
    "  end\n",
    "  return all(abs.(true_params - params) .<= tol)\n",
    "end\n",
    "\n",
    "max_runs = 1000\n",
    "success = 0\n",
    "for counter in 1:max_runs\n",
    "  initial_values = [5 + 5 * rand(), rand(), rand(), 75];\n",
    "  # optimizer = ParticleSwarm(lower=[0.0, 0.0], upper=[3.0, 3.0]) \n",
    "  # optimizer = ParticleSwarm() \n",
    "  optimizer = NelderMead()\n",
    "  result = optimize(cost_func, initial_values, optimizer, Optim.Options(iterations=1000); autodiff = :forward)\n",
    "\n",
    "  success += is_true_params(result.minimizer, [1e-2, 1e-4, 1e-3, 0.1])\n",
    "  if counter % 50 == 0\n",
    "    println(\"Convergence Rate $(round((100 * success) / counter, digits = 1))%\")\n",
    "  end\n",
    "end\n",
    "println(\"Convergence Rate $(round((100 * success) / max_runs, digits = 1))%\")"
   ]
  },
  {
   "cell_type": "code",
   "execution_count": null,
   "metadata": {},
   "outputs": [],
   "source": []
  }
 ],
 "metadata": {
  "kernelspec": {
   "display_name": "Julia 1.7.3",
   "language": "julia",
   "name": "julia-1.7"
  },
  "language_info": {
   "file_extension": ".jl",
   "mimetype": "application/julia",
   "name": "julia",
   "version": "1.7.3"
  },
  "orig_nbformat": 4
 },
 "nbformat": 4,
 "nbformat_minor": 2
}
